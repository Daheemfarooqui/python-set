{
 "cells": [
  {
   "cell_type": "markdown",
   "id": "c5fddcf7-0625-4e42-b3e5-de7fb3a5edfd",
   "metadata": {},
   "source": [
    "# Q1. What is a set in Python?"
   ]
  },
  {
   "cell_type": "markdown",
   "id": "1d3f0a5a-235f-4186-aad2-61cd488618a5",
   "metadata": {},
   "source": [
    "## Ans1\n",
    "* A set, in Python, is an unordered collection of unique items. It’s a data structure that’s similar to a list, but it has some unique properties. It’s a great choice for when you want to store a collection of data that isn’t constrained by a particular order or sequence. You can add, remove, and modify elements in a set very easily, and the set will always keep track of the changes "
   ]
  },
  {
   "cell_type": "code",
   "execution_count": 1,
   "id": "66fa65ed-d132-44f6-b7e2-ae516095a7b6",
   "metadata": {},
   "outputs": [
    {
     "data": {
      "text/plain": [
       "set"
      ]
     },
     "execution_count": 1,
     "metadata": {},
     "output_type": "execute_result"
    }
   ],
   "source": [
    " # Example: \n",
    "a= set() \n",
    "type(a)"
   ]
  },
  {
   "cell_type": "markdown",
   "id": "4551dc30-98d0-4680-894a-ce0dd1da944f",
   "metadata": {},
   "source": [
    "# Q2.How do you create a set in Python?"
   ]
  },
  {
   "cell_type": "code",
   "execution_count": 8,
   "id": "8776b7a3-e814-41d6-b63d-ce27446d550c",
   "metadata": {},
   "outputs": [
    {
     "name": "stdout",
     "output_type": "stream",
     "text": [
      "{1, 2, 3, 4, 5, 6, 7, 8, 9}\n"
     ]
    },
    {
     "data": {
      "text/plain": [
       "set"
      ]
     },
     "execution_count": 8,
     "metadata": {},
     "output_type": "execute_result"
    }
   ],
   "source": [
    "### Creating a Set in Python – Syntax:\n",
    "set1 = set([1,2,3,4,5,1,3,4,6,7,1,5,8,3,9]) \n",
    "\n",
    "print(set1)\n",
    "\n",
    "type(set1)\n",
    "\n",
    "\n"
   ]
  },
  {
   "cell_type": "markdown",
   "id": "91ce36e3-a8d9-435c-a454-3f48da3bffb5",
   "metadata": {},
   "source": [
    "# Q3. How do you add elements to a set in Python?"
   ]
  },
  {
   "cell_type": "markdown",
   "id": "4d912540-f9d5-4167-a0f1-c7ea6f5d3283",
   "metadata": {},
   "source": [
    "## Ans3\n",
    "\n",
    " * we can add elements to a set in python by using the add() function. "
   ]
  },
  {
   "cell_type": "code",
   "execution_count": 14,
   "id": "7deef69e-5f7e-4c29-bae6-de42f2586ac8",
   "metadata": {},
   "outputs": [
    {
     "name": "stdout",
     "output_type": "stream",
     "text": [
      "{1, 2, 3, 4}\n"
     ]
    }
   ],
   "source": [
    "setA = {1,2,3} \n",
    "setA.add(4) \n",
    "print(setA) "
   ]
  },
  {
   "cell_type": "markdown",
   "id": "ad03da3a-f067-4f72-8514-a5d6a7dce127",
   "metadata": {},
   "source": [
    "# Q4. How do you remove elements from a set in Python?"
   ]
  },
  {
   "cell_type": "markdown",
   "id": "3c8c1fdf-a8a7-4937-8ae2-17ea89d5dd1b",
   "metadata": {},
   "source": [
    "## Ans\n",
    "\n",
    "*  There are various ways of removing elements from a set in python.\n",
    "*  One can also use pop() function, discard() function."
   ]
  },
  {
   "cell_type": "code",
   "execution_count": 34,
   "id": "a0d0024d-c135-4f90-afbf-03584d4f5a88",
   "metadata": {},
   "outputs": [
    {
     "name": "stdout",
     "output_type": "stream",
     "text": [
      "{'hello', 'world', 'pwskills'}\n",
      "{'hello', 'world', 'pwskills'}\n"
     ]
    }
   ],
   "source": [
    "# discard() function:     \n",
    "setA = {\"hello\",\"world\",\"python\",\"pwskills\"} \n",
    "setA.discard(\"python\")\n",
    "print(setA)\n",
    "\n",
    "setB = {\"suhd\",\"krish\",\"imran\",\"pwskills\"} \n",
    "setB.pop() \n",
    "print(setA) \n"
   ]
  },
  {
   "cell_type": "markdown",
   "id": "d9de4897-74c6-4bcd-8f1c-6dd860fee49c",
   "metadata": {},
   "source": [
    "# Q5. How do you get the length of a set in Python?"
   ]
  },
  {
   "cell_type": "code",
   "execution_count": 46,
   "id": "45abe12b-9181-4355-8c06-50825d0eafa5",
   "metadata": {},
   "outputs": [
    {
     "name": "stdin",
     "output_type": "stream",
     "text": [
      "enter your value Daheem\n"
     ]
    },
    {
     "name": "stdout",
     "output_type": "stream",
     "text": [
      "Set:  Daheem\n",
      "Total elements:  6\n"
     ]
    }
   ],
   "source": [
    "# Create an empty set\n",
    "myset = {}\n",
    "myset = input(\"enter your value\")\n",
    "print(\"Set: \",myset)\n",
    "\n",
    "# Return length of the set.\n",
    "print(\"Total elements: \",len(myset))\n",
    "\n",
    "# Output:\n",
    "# Set:  {}\n",
    "# Total elements:  0"
   ]
  },
  {
   "cell_type": "code",
   "execution_count": null,
   "id": "35c26753-ce83-462b-bca9-d148ad0b9426",
   "metadata": {},
   "outputs": [],
   "source": []
  },
  {
   "cell_type": "code",
   "execution_count": null,
   "id": "ed3c3b4e-331c-426a-bfff-6bfac0860a3a",
   "metadata": {},
   "outputs": [],
   "source": []
  }
 ],
 "metadata": {
  "kernelspec": {
   "display_name": "Python 3 (ipykernel)",
   "language": "python",
   "name": "python3"
  },
  "language_info": {
   "codemirror_mode": {
    "name": "ipython",
    "version": 3
   },
   "file_extension": ".py",
   "mimetype": "text/x-python",
   "name": "python",
   "nbconvert_exporter": "python",
   "pygments_lexer": "ipython3",
   "version": "3.10.8"
  }
 },
 "nbformat": 4,
 "nbformat_minor": 5
}
